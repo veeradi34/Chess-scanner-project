{
 "cells": [
  {
   "cell_type": "code",
   "execution_count": 4,
   "metadata": {},
   "outputs": [
    {
     "name": "stdout",
     "output_type": "stream",
     "text": [
      "Chessboard pattern not detected!\n"
     ]
    }
   ],
   "source": [
    "import cv2\n",
    "import numpy as np\n",
    "\n",
    "# Load the image\n",
    "image_path = '../data/chessboard.jpeg'\n",
    "image = cv2.imread(image_path)\n",
    "gray = cv2.cvtColor(image, cv2.COLOR_BGR2GRAY)\n",
    "\n",
    "# Define the chessboard size (inner corners)\n",
    "chessboard_size = (7, 7)  # Adjust this based on the grid in your chessboard\n",
    "\n",
    "# Detect chessboard corners\n",
    "ret, corners = cv2.findChessboardCorners(gray, chessboard_size, None)\n",
    "\n",
    "if ret:\n",
    "    # Draw the corners for visualization\n",
    "    image_with_corners = cv2.drawChessboardCorners(image, chessboard_size, corners, ret)\n",
    "    cv2.imwrite('/mnt/data/chessboard_corners.jpeg', image_with_corners)\n",
    "\n",
    "    # Define the destination points for perspective transformation\n",
    "    width, height = 500, 500  # Size of the output image\n",
    "    dst_points = np.array([[0, 0], [width - 1, 0], [width - 1, height - 1], [0, height - 1]], dtype=\"float32\")\n",
    "\n",
    "    # Extract the four corner points of the detected chessboard\n",
    "    src_points = np.array([corners[0][0], corners[chessboard_size[0] - 1][0],\n",
    "                           corners[-1][0], corners[-chessboard_size[0]][0]], dtype=\"float32\")\n",
    "\n",
    "    # Apply perspective transformation\n",
    "    M = cv2.getPerspectiveTransform(src_points, dst_points)\n",
    "    warped = cv2.warpPerspective(image, M, (width, height))\n",
    "\n",
    "    # Save the cropped and corrected chessboard\n",
    "    output_path = '../data/cropped_chessboard_perspective_corrected.jpeg'\n",
    "    cv2.imwrite(output_path, warped)\n",
    "    print(f\"Cropped and perspective-corrected chessboard saved to {output_path}\")\n",
    "else:\n",
    "    print(\"Chessboard pattern not detected!\")\n"
   ]
  }
 ],
 "metadata": {
  "kernelspec": {
   "display_name": ".venv",
   "language": "python",
   "name": "python3"
  },
  "language_info": {
   "codemirror_mode": {
    "name": "ipython",
    "version": 3
   },
   "file_extension": ".py",
   "mimetype": "text/x-python",
   "name": "python",
   "nbconvert_exporter": "python",
   "pygments_lexer": "ipython3",
   "version": "3.12.8"
  }
 },
 "nbformat": 4,
 "nbformat_minor": 2
}
